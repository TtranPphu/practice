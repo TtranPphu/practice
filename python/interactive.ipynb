{
 "cells": [
  {
   "cell_type": "code",
   "execution_count": 3,
   "metadata": {},
   "outputs": [
    {
     "name": "stdout",
     "output_type": "stream",
     "text": [
      "{'TARGET': ('A', 'B'), 'A': 'gau gau', 'B': ('A', 'C'), 'C': 'meo meo'}\n"
     ]
    }
   ],
   "source": [
    "equations_list = [\"TARGET = A + B\", \"A = gau gau\", \"B = A + C\", \"C = meo meo\"]\n",
    "equations = {\n",
    "    variable: tuple(expression.split(\" + \")) if \" + \" in expression else expression\n",
    "    for variable, expression in [equation.split(\" = \") for equation in equations_list]\n",
    "}\n",
    "print(equations)"
   ]
  }
 ],
 "metadata": {
  "kernelspec": {
   "display_name": ".venv",
   "language": "python",
   "name": "python3"
  },
  "language_info": {
   "codemirror_mode": {
    "name": "ipython",
    "version": 3
   },
   "file_extension": ".py",
   "mimetype": "text/x-python",
   "name": "python",
   "nbconvert_exporter": "python",
   "pygments_lexer": "ipython3",
   "version": "3.12.9"
  }
 },
 "nbformat": 4,
 "nbformat_minor": 2
}
